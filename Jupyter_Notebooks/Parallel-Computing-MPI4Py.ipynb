{
 "cells": [
  {
   "cell_type": "markdown",
   "metadata": {},
   "source": [
    "## Parallel Computing\n",
    "\n",
    "In this module, we will begin with the basics of parallel computing. Essentially, parallel computing utilizes multiple resources to execute calculations in tandem. The goal of using parallel computing is to reduce the computation time sot that a user arrives at a solution as fast as possible. Parallel computing isn't necessariy for most routine tasks, but large require parallel computing becuase the time to solution can require days, weeks, and even months. Additionally, some problems are too large for standard problems and they are bounded by the memory available. In this case, a form of parallel computing (distributed computing) is needed to alleviate the requirements of a single machine. \n",
    "\n",
    "\n",
    "Below is an an example script sums all of the elements of an array in parallel. To do this, ..."
   ]
  },
  {
   "cell_type": "code",
   "execution_count": null,
   "metadata": {},
   "outputs": [],
   "source": [
    "\"\"\"This script creates an N-dimensional array and\n",
    "calculates the sum of the elements in parallel with Mpi4py.\"\"\"\n",
    "\n",
    "#Load modules\n",
    "from mpi4py import MPI\n",
    "import numpy as np\n",
    "import time\n",
    "\n",
    "#Initialization\n",
    "comm = MPI.COMM_WORLD       # Setting up communication pr//otocol\n",
    "size = comm.Get_size()      # Extracting the number of processes\n",
    "rank = comm.Get_rank()      # Identifying individual processes\n",
    "init_time = time.time()     \n",
    "N = 50000000\n",
    "array = np.ndarray.tolist(np.arange(N+1))\n",
    "\n",
    "\n",
    "start_index = int(N * rank / size + 1)\n",
    "end_index   = int(N * (rank +1)  / size) + 1\n",
    "\n",
    "partial_sum = sum(array[start_index:end_index])\n",
    "\n",
    "if rank!= 0:\n",
    "    comm.send(partial_sum,dest=0,tag=rank)\n",
    "    comm.send((time.time() - init_time), dest = 0, tag = size+rank)\n",
    "\n",
    "else:\n",
    "    data_received = np.ndarray.tolist(np.arange(1,size+1))\n",
    "    time_received = np.ndarray.tolist(np.arange(1,size+1))\n",
    "\n",
    "    for i in list(range(1,size)):\n",
    "        data_received[i] = comm.recv(source = i, tag = i)\n",
    "        time_received[i] = comm.recv(source = i, tag = size+i)\n",
    "    data_received[0] = partial_sum\n",
    "    time_received[0] = time.time()-init_time\n",
    "\n",
    "    print('Your array is ', data_received) \n",
    "    print('The sum of your array is ', sum(data_received))\n",
    "    print('The total time to calculate the sum was', (time.time()-init_time))\n",
    "\n",
    "    for i in list(range(0,size)):\n",
    "        print('Node', i, 'took ', time_received[i], ' seconds') \n"
   ]
  }
 ],
 "metadata": {
  "kernelspec": {
   "display_name": "Python 3",
   "language": "python",
   "name": "python3"
  },
  "language_info": {
   "codemirror_mode": {
    "name": "ipython",
    "version": 3
   },
   "file_extension": ".py",
   "mimetype": "text/x-python",
   "name": "python",
   "nbconvert_exporter": "python",
   "pygments_lexer": "ipython3",
   "version": "3.7.0"
  }
 },
 "nbformat": 4,
 "nbformat_minor": 4
}
