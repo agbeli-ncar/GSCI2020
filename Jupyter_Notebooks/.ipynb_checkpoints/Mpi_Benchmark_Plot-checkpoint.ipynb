{
 "cells": [
  {
   "cell_type": "code",
   "execution_count": 3,
   "metadata": {},
   "outputs": [
    {
     "ename": "FileNotFoundError",
     "evalue": "[Errno 2] No such file or directory: '4_process_results.pckl'",
     "output_type": "error",
     "traceback": [
      "\u001b[0;31m---------------------------------------------------------------------------\u001b[0m",
      "\u001b[0;31mFileNotFoundError\u001b[0m                         Traceback (most recent call last)",
      "\u001b[0;32m<ipython-input-3-9d654cc52e1f>\u001b[0m in \u001b[0;36m<module>\u001b[0;34m\u001b[0m\n\u001b[1;32m      5\u001b[0m \u001b[0mprocess_1\u001b[0m  \u001b[0;34m=\u001b[0m \u001b[0mpickle\u001b[0m\u001b[0;34m.\u001b[0m\u001b[0mload\u001b[0m\u001b[0;34m(\u001b[0m\u001b[0mopen\u001b[0m\u001b[0;34m(\u001b[0m\u001b[0mpath\u001b[0m\u001b[0;34m+\u001b[0m\u001b[0;34m\"1_process_results.pckl\"\u001b[0m\u001b[0;34m,\u001b[0m\u001b[0;34m'rb'\u001b[0m\u001b[0;34m)\u001b[0m\u001b[0;34m)\u001b[0m\u001b[0;34m\u001b[0m\u001b[0;34m\u001b[0m\u001b[0m\n\u001b[1;32m      6\u001b[0m \u001b[0mprocess_2\u001b[0m  \u001b[0;34m=\u001b[0m \u001b[0mpickle\u001b[0m\u001b[0;34m.\u001b[0m\u001b[0mload\u001b[0m\u001b[0;34m(\u001b[0m\u001b[0mopen\u001b[0m\u001b[0;34m(\u001b[0m\u001b[0;34m\"../Resources/datasets/vector_sum/2_process_results.pckl\"\u001b[0m\u001b[0;34m,\u001b[0m\u001b[0;34m'rb'\u001b[0m\u001b[0;34m)\u001b[0m\u001b[0;34m)\u001b[0m\u001b[0;34m\u001b[0m\u001b[0;34m\u001b[0m\u001b[0m\n\u001b[0;32m----> 7\u001b[0;31m \u001b[0mprocess_4\u001b[0m  \u001b[0;34m=\u001b[0m \u001b[0mpickle\u001b[0m\u001b[0;34m.\u001b[0m\u001b[0mload\u001b[0m\u001b[0;34m(\u001b[0m\u001b[0mopen\u001b[0m\u001b[0;34m(\u001b[0m\u001b[0;34m\"4_process_results.pckl\"\u001b[0m\u001b[0;34m,\u001b[0m\u001b[0;34m'rb'\u001b[0m\u001b[0;34m)\u001b[0m\u001b[0;34m)\u001b[0m\u001b[0;34m\u001b[0m\u001b[0;34m\u001b[0m\u001b[0m\n\u001b[0m\u001b[1;32m      8\u001b[0m \u001b[0mprocess_8\u001b[0m  \u001b[0;34m=\u001b[0m \u001b[0mpickle\u001b[0m\u001b[0;34m.\u001b[0m\u001b[0mload\u001b[0m\u001b[0;34m(\u001b[0m\u001b[0mopen\u001b[0m\u001b[0;34m(\u001b[0m\u001b[0;34m\"8_process_results.pckl\"\u001b[0m\u001b[0;34m,\u001b[0m\u001b[0;34m'rb'\u001b[0m\u001b[0;34m)\u001b[0m\u001b[0;34m)\u001b[0m\u001b[0;34m\u001b[0m\u001b[0;34m\u001b[0m\u001b[0m\n\u001b[1;32m      9\u001b[0m \u001b[0mprocess_16\u001b[0m \u001b[0;34m=\u001b[0m \u001b[0mpickle\u001b[0m\u001b[0;34m.\u001b[0m\u001b[0mload\u001b[0m\u001b[0;34m(\u001b[0m\u001b[0mopen\u001b[0m\u001b[0;34m(\u001b[0m\u001b[0;34m\"16_process_results.pckl\"\u001b[0m\u001b[0;34m,\u001b[0m\u001b[0;34m'rb'\u001b[0m\u001b[0;34m)\u001b[0m\u001b[0;34m)\u001b[0m\u001b[0;34m\u001b[0m\u001b[0;34m\u001b[0m\u001b[0m\n",
      "\u001b[0;31mFileNotFoundError\u001b[0m: [Errno 2] No such file or directory: '4_process_results.pckl'"
     ]
    }
   ],
   "source": [
    "import pickle\n",
    "import pandas as pd \n",
    "import matplotlib.pyplot as plt\n",
    "path = '../Resources/datasets/vector_sum/'\n",
    "process_1  = pickle.load(open(path+\"1_process_results.pckl\",'rb'))\n",
    "process_2  = pickle.load(open(path+\"2_process_results.pckl\",'rb'))\n",
    "process_4  = pickle.load(open(\"4_process_results.pckl\",'rb'))\n",
    "process_8  = pickle.load(open(\"8_process_results.pckl\",'rb'))\n",
    "process_16 = pickle.load(open(\"16_process_results.pckl\",'rb'))\n",
    "process_32 = pickle.load(open(\"32_process_results.pckl\",'rb'))\n",
    "process_48 = pickle.load(open(\"48_process_results.pckl\",'rb'))\n",
    "process_64 = pickle.load(open(\"64_process_results.pckl\",'rb'))\n",
    "\n",
    "data = [process_1,\n",
    "        process_2,\n",
    "        process_4,\n",
    "        process_8,\n",
    "        process_16,\n",
    "        process_32,\n",
    "        process_48,\n",
    "        process_64]\n",
    "df = pd.DataFrame(data, \n",
    "                  columns =['1', '10', '100',\n",
    "                            '1000','10000','100000',\n",
    "                            '1000000'], \n",
    "                  dtype = float)\n",
    "df.index = ['1_core','2_core','4_core','8_core','16_core','32_core','48_core','64_core']\n",
    "print(df)\n",
    "df=df.transpose()\n",
    "plt.figure() \n",
    "df.plot()\n",
    "plt.gca().set_xlabel('N elements')\n",
    "plt.gca().set_ylabel('Second')\n",
    "plt.gca().set_title('Time to Solution')\n",
    "plt.gca().set_yscale('log')\n",
    "plt.gca().grid(True)\n",
    "plt.gca().set_xlim(0, 6)"
   ]
  }
 ],
 "metadata": {
  "kernelspec": {
   "display_name": "SGCI-Workshop",
   "language": "python",
   "name": "sgci-workshop"
  },
  "language_info": {
   "codemirror_mode": {
    "name": "ipython",
    "version": 3
   },
   "file_extension": ".py",
   "mimetype": "text/x-python",
   "name": "python",
   "nbconvert_exporter": "python",
   "pygments_lexer": "ipython3",
   "version": "3.8.3"
  }
 },
 "nbformat": 4,
 "nbformat_minor": 4
}
