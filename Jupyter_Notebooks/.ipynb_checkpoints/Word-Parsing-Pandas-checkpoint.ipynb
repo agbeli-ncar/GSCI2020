{
 "cells": [
  {
   "cell_type": "code",
   "execution_count": 49,
   "metadata": {},
   "outputs": [
    {
     "name": "stdout",
     "output_type": "stream",
     "text": [
      "                Tweet Id                                          Tweet URL  \\\n",
      "0  \"1167429261210218497\"  https://twitter.com/animalhealthEU/status/1167...   \n",
      "1  \"1167375334670557185\"  https://twitter.com/PennyBrohnUK/status/116737...   \n",
      "2  \"1167237977615097861\"  https://twitter.com/lordbyronaf/status/1167237...   \n",
      "3  \"1167236897078480898\"  https://twitter.com/CountessDavis/status/11672...   \n",
      "4  \"1167228378191204353\"  https://twitter.com/Local12/status/11672283781...   \n",
      "\n",
      "  Tweet Posted Time (UTC)                                      Tweet Content  \\\n",
      "0    30 Aug 2019 13:30:00  Pets change our lives &amp; become a part of o...   \n",
      "1    30 Aug 2019 09:55:43  Another spot of our #morethanmedicine bus in #...   \n",
      "2    30 Aug 2019 00:49:54  What a great team ⁦@HealthSourceOH⁩ ⁦@Local12⁩...   \n",
      "3    30 Aug 2019 00:45:37  What a great team ⁦@HealthSourceOH⁩ ⁦@Local12⁩...   \n",
      "4    30 Aug 2019 00:11:46  What a great team ⁦@HealthSourceOH⁩ ⁦@Local12⁩...   \n",
      "\n",
      "  Tweet Type                Client  Retweets Received  Likes Received  \\\n",
      "0      Tweet  Twitter Ads Composer                  0               4   \n",
      "1      Tweet       Twitter Web App                  0               5   \n",
      "2    ReTweet   Twitter for Android                  0               0   \n",
      "3    ReTweet   Twitter for Android                  0               0   \n",
      "4    ReTweet             TweetDeck                  0               0   \n",
      "\n",
      "   Tweet Location Tweet Language  ...                 Name        Username  \\\n",
      "0        Brussels        English  ...   AnimalhealthEurope  animalhealthEU   \n",
      "1   Pill, Bristol        English  ...       Penny Brohn UK    PennyBrohnUK   \n",
      "2       Ohio, USA        English  ...         Lord ByronAF     lordbyronaf   \n",
      "3             NaN        English  ...  Lisa Countess davis   CountessDavis   \n",
      "4  Cincinnati, OH        English  ...     Local 12/WKRC-TV         Local12   \n",
      "\n",
      "                                            User Bio Verified or Non-Verified  \\\n",
      "0  AnimalhealthEurope represents manufacturers of...             Non-Verified   \n",
      "1  We help people live well with the impact of ca...             Non-Verified   \n",
      "2  It's easier to be who you are, than it is to b...             Non-Verified   \n",
      "3  I am named after @ElvisPresley daughter Lisa M...             Non-Verified   \n",
      "4  Local 12 is #Cincinnati's trusted source for b...                 Verified   \n",
      "\n",
      "                          Profile URL Protected or Non-protected  \\\n",
      "0  https://twitter.com/animalhealthEU              Non-Protected   \n",
      "1    https://twitter.com/PennyBrohnUK              Non-Protected   \n",
      "2     https://twitter.com/lordbyronaf              Non-Protected   \n",
      "3   https://twitter.com/CountessDavis              Non-Protected   \n",
      "4         https://twitter.com/Local12              Non-Protected   \n",
      "\n",
      "  User Followers  User Following  User Account Creation Date Impressions  \n",
      "0           3697             542        17 Dec 2012 09:14:15        7394  \n",
      "1           3227            1571        15 Sep 2010 09:44:02        6454  \n",
      "2           7808            8617        25 Jul 2012 15:43:47           0  \n",
      "3            291              81        26 Jan 2017 18:21:42           0  \n",
      "4         198675             651        02 Sep 2008 20:09:44           0  \n",
      "\n",
      "[5 rows x 21 columns]\n",
      "280    A keen cyclist 🚴‍♂️with 2 #dogs called Jocco &...\n",
      "350    A #dog called Elvis 🐕\\nA @FulhamFC supporter ⚽...\n",
      "168    Vice-President of @OrionPharma Animal Health, ...\n",
      "338    Our pets are in our homes and gardens, on our ...\n",
      "302    On night shifts, anytime you walk through an a...\n",
      "                             ...                        \n",
      "187    From farm animal #vet 👨‍⚕️🐄, to the human heal...\n",
      "186    From farm animal #vet 👨‍⚕️🐄, to the human heal...\n",
      "184    @animalhealthEU @MSDAnimalHealth For Vice-Pres...\n",
      "183    From farm animal #vet 👨‍⚕️🐄, to the human heal...\n",
      "193    There are so many ways to protect animal healt...\n",
      "Name: Tweet Content, Length: 386, dtype: object\n"
     ]
    }
   ],
   "source": [
    "#Find the top 10 tweets from the dataset \n",
    "import numpy as np\n",
    "import matplotlib.pyplot as plt\n",
    "import csv\n",
    "import pandas as pd\n",
    "\n",
    "Path = '../Resources/datasets/'\n",
    "df=pd.read_csv(Path + 'sample_twitter_data.csv')\n",
    "print(df.head()) # Optional: View all headers\n",
    "sorted_data = df.sort_values(by=['Likes Received'], ascending=False)\n",
    "#print(sorted_data['Likes Received'])\n",
    "most_liked_tweets = sorted_data['Tweet Content']\n",
    "print(most_liked_tweets)\n",
    "\n",
    "\n"
   ]
  },
  {
   "cell_type": "markdown",
   "metadata": {},
   "source": [
    "## Quesiton:\n",
    "What is the top 5 most retweeted tweets in thh dataset? \n",
    "What tweet was viewd the most (received the most impressions)? \n"
   ]
  },
  {
   "cell_type": "code",
   "execution_count": 65,
   "metadata": {},
   "outputs": [
    {
     "name": "stdout",
     "output_type": "stream",
     "text": [
      "Tweet Type\n",
      "ReTweet    276\n",
      "Reply       15\n",
      "Tweet       95\n",
      "dtype: int64\n"
     ]
    }
   ],
   "source": [
    "# Categorize as Tweet, Retweets, or Replys\n",
    "import numpy as np\n",
    "import matplotlib.pyplot as plt\n",
    "import csv\n",
    "import pandas as pd\n",
    "\n",
    "Path = '../Resources/datasets/'\n",
    "df=pd.read_csv(Path + 'sample_twitter_data.csv')\n",
    "\n",
    "print(df.groupby(['Tweet Type']).size())\n",
    "\n",
    "#Conclude that most tweets from the dataset were retweets instead of actual tweeets or replys\n"
   ]
  },
  {
   "cell_type": "markdown",
   "metadata": {},
   "source": [
    "## Question\n",
    "What Language was used the most in the dataset? (English, Spanish, French, etc.)\n",
    "Where most tweets verified or non-verifyed?\n",
    "What operating system was used the most?\n",
    "\n",
    "\n"
   ]
  },
  {
   "cell_type": "code",
   "execution_count": 33,
   "metadata": {},
   "outputs": [
    {
     "data": {
      "text/plain": [
       "Text(0.5, 0, 'Times Used')"
      ]
     },
     "execution_count": 33,
     "metadata": {},
     "output_type": "execute_result"
    },
    {
     "data": {
      "image/png": "[encoded data removed]",
      "text/plain": [
       "<Figure size 432x288 with 1 Axes>"
      ]
     },
     "metadata": {
      "needs_background": "light"
     },
     "output_type": "display_data"
    }
   ],
   "source": [
    "#Count the number of times a hastag appears \n",
    "import numpy as np\n",
    "import matplotlib.pyplot as plt\n",
    "import csv\n",
    "import pandas as pd\n",
    "\n",
    "Path = '../Resources/datasets/'\n",
    "df=pd.read_csv(Path + 'sample_twitter_data.csv')\n",
    "hashtags = df['Tweet Content'].str.findall(r'#.*?(?=\\s|$)').explode()\n",
    "top_10_hashtags=hashtags.value_counts().head(10)\n",
    "\n",
    "\n",
    "top_10_hashtags.plot.barh()\n",
    "plt.gca().invert_yaxis()\n",
    "plt.gca().set_title(\"Twitter Hashtags\")\n",
    "plt.gca().set_xlabel('Times Used')\n"
   ]
  },
  {
   "cell_type": "markdown",
   "metadata": {},
   "source": [
    "## Question \n",
    "Based on the dataset, are shorter or longer hashtags used more?"
   ]
  },
  {
   "cell_type": "code",
   "execution_count": 28,
   "metadata": {},
   "outputs": [
    {
     "data": {
      "text/plain": [
       "(array([0, 1]), <a list of 2 Text xticklabel objects>)"
      ]
     },
     "execution_count": 28,
     "metadata": {},
     "output_type": "execute_result"
    },
    {
     "data": {
      "image/png": "[encoded data removed]",
      "text/plain": [
       "<Figure size 432x288 with 1 Axes>"
      ]
     },
     "metadata": {
      "needs_background": "light"
     },
     "output_type": "display_data"
    }
   ],
   "source": [
    "#Word Processing -- Tracking views with time\n",
    "import numpy as np\n",
    "import matplotlib.pyplot as plt\n",
    "import csv\n",
    "import pandas as pd\n",
    "\n",
    "#import time and view data\n",
    "Path = '../Resources/datasets/'\n",
    "df=pd.read_csv(Path + 'sample_twitter_data.csv')\n",
    "time_data =df['Tweet Posted Time (UTC)']\n",
    "views_data = df['Impressions']\n",
    "#print(time_data)\n",
    "#print(df.head())\n",
    "\n",
    "#Adding a new Month Column\n",
    "df['Month'] = pd.to_datetime(df['Tweet Posted Time (UTC)']).dt.strftime('%Y-%m')\n",
    "#print(df) View new column\n",
    "\n",
    "#sum up all the views on each date\n",
    "month_totals = df.groupby(['Month']).sum()\n",
    "month_totals.plot.bar(y=[\"Likes Received\", \"Retweets Received\"])\n",
    "plt.xticks(rotation=0)"
   ]
  },
  {
   "cell_type": "code",
   "execution_count": null,
   "metadata": {},
   "outputs": [],
   "source": [
    "#Tweets likes by hour"
   ]
  }
 ],
 "metadata": {
  "kernelspec": {
   "display_name": "Python 3",
   "language": "python",
   "name": "python3"
  },
  "language_info": {
   "codemirror_mode": {
    "name": "ipython",
    "version": 3
   },
   "file_extension": ".py",
   "mimetype": "text/x-python",
   "name": "python",
   "nbconvert_exporter": "python",
   "pygments_lexer": "ipython3",
   "version": "3.7.0"
  }
 },
 "nbformat": 4,
 "nbformat_minor": 4
}
